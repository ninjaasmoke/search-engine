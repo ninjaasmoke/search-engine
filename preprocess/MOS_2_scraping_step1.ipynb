{
  "nbformat": 4,
  "nbformat_minor": 0,
  "metadata": {
    "colab": {
      "provenance": []
    },
    "kernelspec": {
      "name": "python3",
      "display_name": "Python 3"
    },
    "language_info": {
      "name": "python"
    }
  },
  "cells": [
    {
      "cell_type": "code",
      "execution_count": null,
      "metadata": {
        "id": "hRXFvRuBKQo-"
      },
      "outputs": [],
      "source": [
        "import requests\n",
        "from bs4 import BeautifulSoup\n",
        "import os\n",
        "import urllib.parse\n",
        "from google.colab import drive\n",
        "import base64\n",
        "import re\n",
        "import csv\n",
        "import urllib.parse"
      ]
    },
    {
      "cell_type": "code",
      "source": [
        "# Mount Google Drive\n",
        "drive.mount('/content/drive')\n"
      ],
      "metadata": {
        "colab": {
          "base_uri": "https://localhost:8080/"
        },
        "id": "LVvm1XvdKX9_",
        "outputId": "c7491749-1a42-420f-98d6-3d415355caf9"
      },
      "execution_count": null,
      "outputs": [
        {
          "output_type": "stream",
          "name": "stdout",
          "text": [
            "Mounted at /content/drive\n"
          ]
        }
      ]
    },
    {
      "cell_type": "code",
      "source": [
        "def download_image(url, directory, filename):\n",
        "    try:\n",
        "        if url.startswith('data:image'):\n",
        "            # Handle base64-encoded images\n",
        "            # Extract the base64-encoded image data\n",
        "            image_data = url.split(';base64,')[-1]\n",
        "            # Decode base64 data\n",
        "            image_bytes = base64.b64decode(image_data)\n",
        "            with open(os.path.join(directory, filename), 'wb') as f:\n",
        "                f.write(image_bytes)\n",
        "        else:\n",
        "            # Handle regular image URLs\n",
        "            response = requests.get(url)\n",
        "            if response.status_code == 200:\n",
        "                with open(os.path.join(directory, filename), 'wb') as f:\n",
        "                    f.write(response.content)\n",
        "            else:\n",
        "                print(f\"Failed to download: {filename}\")\n",
        "    except Exception as e:\n",
        "        print(f\"An error occurred while downloading {filename}: {str(e)}\")"
      ],
      "metadata": {
        "id": "KWxQUffQKUgr"
      },
      "execution_count": null,
      "outputs": []
    },
    {
      "cell_type": "code",
      "source": [
        "def crawl_unsplash(query, directory):\n",
        "    query_url =  re.sub(r'\\s', '%20', query)\n",
        "    query_url = urllib.parse.quote_plus(query_url)\n",
        "    url = f\"https://unsplash.com/s/photos/{query_url}?license=free\"\n",
        "\n",
        "    # List to store image data\n",
        "    image_data = []\n",
        "    name = query\n",
        "\n",
        "    try:\n",
        "        response = requests.get(url)\n",
        "        if response.status_code == 200:\n",
        "            soup = BeautifulSoup(response.content, 'html.parser')\n",
        "            # Find all div tags with class MorZF\n",
        "            divs = soup.find_all('div', class_='MorZF')\n",
        "            for div in divs:\n",
        "                # Initialize dictionary to store scraped data\n",
        "                scraped_data = {}\n",
        "                # Find the parent anchor tag of the div\n",
        "                anchor_tag = div.find_parent('a', itemprop='contentUrl')\n",
        "                if anchor_tag:\n",
        "                    # Extract title and href attributes from the parent anchor tag\n",
        "                    title = anchor_tag.get('title', '')\n",
        "                    href = anchor_tag.get('href', '')\n",
        "                    # Find all img tags within the div\n",
        "                    images = div.find_all('img')\n",
        "                    for idx, image in enumerate(images):\n",
        "                        # Check if img tag has alt, srcset, and src attributes\n",
        "                        if 'alt' in image.attrs and 'srcset' in image.attrs and 'src' in image.attrs:\n",
        "                            # Extract the image URL and alt text\n",
        "                            image_url = image['src']\n",
        "                            alt_text = image['alt']\n",
        "                            # Update scraped data\n",
        "                            scraped_data.update({'Alt': alt_text, 'URL': image_url, 'Title': title, 'Anchor_Href': href})\n",
        "                        # Check if the img tag has a 'data-srcset' attribute for lazy loading\n",
        "                        elif 'data-srcset' in image.attrs:\n",
        "                            # Extract the lazy-loaded image URL\n",
        "                            srcset = image['data-srcset']\n",
        "                            # Use regular expression to extract the first image URL from srcset\n",
        "                            match = re.search(r'(https:\\/\\/.*?)\\s', srcset)\n",
        "                            if match:\n",
        "                                image_url = match.group(1)\n",
        "                                # Extract alt text if available\n",
        "                                alt_text = image.attrs.get('alt', '')\n",
        "                                # Update scraped data\n",
        "                                scraped_data.update({'Alt': alt_text, 'URL': image_url, 'Title': title, 'Anchor_Href': href})\n",
        "                    # Visit the individual image page\n",
        "                    image_page_url = f\"https://unsplash.com{href}\"\n",
        "                    image_page_response = requests.get(image_page_url)\n",
        "                    if image_page_response.status_code == 200:\n",
        "                        image_page_soup = BeautifulSoup(image_page_response.content, 'html.parser')\n",
        "                        # Find the div with class \"VZRk3 rLPoM\" on the individual image page\n",
        "                        related_images_div = image_page_soup.find('div', class_='VZRk3 rLPoM')\n",
        "                        if related_images_div:\n",
        "                            # Find all anchor tags within the div\n",
        "                            related_image_links = related_images_div.find_all('a')\n",
        "                            # Extract inner text and href of related images\n",
        "                            related_images = [link.get_text() for link in related_image_links]\n",
        "                            # Update scraped data and related images to list\n",
        "                            scraped_data.update({'Relative_Title': title, 'Relative_URL': href, 'Related_Images': related_images})\n",
        "                # Append scraped data to image data list\n",
        "                image_data.append(scraped_data)\n",
        "            image_data = [d for d in image_data if d]\n",
        "            # Write image data to a CSV file\n",
        "            csv_file_path = os.path.join(directory, f\"{name}_image_data.csv\")\n",
        "            with open(csv_file_path, 'w', newline='', encoding='utf-8') as csvfile:\n",
        "                fieldnames = ['Alt', 'URL', 'Title', 'Anchor_Href', 'Relative_Title', 'Relative_URL', 'Related_Images']\n",
        "                writer = csv.DictWriter(csvfile, fieldnames=fieldnames)\n",
        "                writer.writeheader()\n",
        "                for item in image_data:\n",
        "                    writer.writerow(item)\n",
        "            print(f\"Image data saved to: {csv_file_path}\")\n",
        "        else:\n",
        "            print(f\"Failed to fetch images for query: {name}\")\n",
        "    except Exception as e:\n",
        "        print(f\"An error occurred while crawling Unsplash: {str(e)}\")\n",
        "\n",
        "    print(\"Done.\")"
      ],
      "metadata": {
        "id": "OjfgfXkUKWAQ"
      },
      "execution_count": null,
      "outputs": []
    },
    {
      "cell_type": "code",
      "source": [
        "def generate_data(query_term):\n",
        "    if not os.path.exists(\"/content/drive/\"):\n",
        "        print(\"Google Drive is not mounted. Please mount Google Drive.\")\n",
        "    else:\n",
        "        query = query_term\n",
        "        directory = \"/content/drive/MyDrive/MOS_2/Data_v3\"\n",
        "        if not os.path.exists(directory):\n",
        "            os.makedirs(directory)\n",
        "        crawl_unsplash(query, directory)"
      ],
      "metadata": {
        "id": "T5wM6kVDKaU1"
      },
      "execution_count": null,
      "outputs": []
    },
    {
      "cell_type": "code",
      "source": [
        "queries = [\n",
        "    \"Funny cats\",\n",
        "    \"Abstract paintings\",\n",
        "    \"Vintage cars\",\n",
        "    \"Cute puppies\",\n",
        "    \"City skyline\",\n",
        "    \"Mountain landscape\",\n",
        "    \"Famous landmarks\",\n",
        "    \"Healthy recipes\",\n",
        "    \"Space exploration\",\n",
        "    \"Wedding dresses\",\n",
        "    \"Funny cartoons\",\n",
        "    \"Home decor ideas\",\n",
        "    \"Wildlife photography\",\n",
        "    \"Fashion trends\",\n",
        "    \"Historical architecture\",\n",
        "    \"DIY projects\",\n",
        "    \"Fitness inspiration\",\n",
        "    \"Technology gadgets\",\n",
        "    \"Travel destinations\",\n",
        "    \"Cat\",\n",
        "    \"Flower\",\n",
        "    \"Mountain\",\n",
        "    \"Chair\",\n",
        "    \"Car\",\n",
        "    \"Running horse\",\n",
        "    \"Playing basketball\",\n",
        "    \"Person swimming\",\n",
        "    \"Building a snowman\",\n",
        "    \"Dancing people\",\n",
        "    \"Eiffel Tower\",\n",
        "    \"Statue of Liberty\",\n",
        "    \"Great Wall of China\",\n",
        "    \"Taj Mahal\",\n",
        "    \"Colosseum\",\n",
        "    \"Sunset\",\n",
        "    \"Rainbow\",\n",
        "    \"Waterfall\",\n",
        "    \"Snowflakes\",\n",
        "    \"Forest\",\n",
        "    \"Black cat with white paws\",\n",
        "    \"Red roses in a vase\",\n",
        "    \"Vintage car on a beach\",\n",
        "    \"Snowy mountain peak\",\n",
        "    \"Baby panda playing\",\n",
        "    \"Golden Gate Bridge\",\n",
        "    \"Northern Lights\",\n",
        "    \"Milky Way galaxy\",\n",
        "    \"Grand Canyon\",\n",
        "    \"Pyramids of Giza\",\n",
        "    \"Sailing boats\",\n",
        "    \"Cityscape at night\",\n",
        "    \"Autumn leaves\",\n",
        "    \"Underwater world\",\n",
        "    \"Street art\",\n",
        "    \"Morning dew\",\n",
        "    \"Rural landscape\",\n",
        "    \"Abstract geometric patterns\",\n",
        "    \"Vintage bicycles\",\n",
        "    \"Children playing in the park\",\n",
        "]"
      ],
      "metadata": {
        "id": "jwnoy5T6OV_b"
      },
      "execution_count": null,
      "outputs": []
    },
    {
      "cell_type": "code",
      "source": [
        "print(len(queries))"
      ],
      "metadata": {
        "colab": {
          "base_uri": "https://localhost:8080/"
        },
        "id": "67CROhHnZjmr",
        "outputId": "3f86f9ef-e3dd-457f-cb2e-eb832399e67a"
      },
      "execution_count": null,
      "outputs": [
        {
          "output_type": "stream",
          "name": "stdout",
          "text": [
            "59\n"
          ]
        }
      ]
    },
    {
      "cell_type": "code",
      "source": [
        "for query in queries:\n",
        "    print(f\"Generating data for: {query}\")\n",
        "    query_term = query.lower()\n",
        "    generate_data(query_term)"
      ],
      "metadata": {
        "id": "3gvhc19RZkqW"
      },
      "execution_count": null,
      "outputs": []
    },
    {
      "cell_type": "code",
      "source": [
        "additional_queries = [\n",
        "    \"Beach vacation\",\n",
        "    \"Family picnic\",\n",
        "    \"Modern art\",\n",
        "    \"Luxury cars\",\n",
        "    \"Adorable kittens\",\n",
        "    \"Metropolitan skyline\",\n",
        "    \"Alpine scenery\",\n",
        "    \"World heritage sites\",\n",
        "    \"Vegan recipes\",\n",
        "    \"Astronauts in space\",\n",
        "    \"Bridal gowns\",\n",
        "    \"Satirical comics\",\n",
        "    \"Contemporary interior design\",\n",
        "    \"Endangered species\",\n",
        "    \"Runway fashion\",\n",
        "    \"Ancient ruins\",\n",
        "    \"Woodworking projects\",\n",
        "    \"Yoga poses\",\n",
        "    \"Latest gadgets\",\n",
        "    \"Exotic travel destinations\",\n",
        "    \"Artistic cats\",\n",
        "    \"Colorful flowers\",\n",
        "    \"Snow-capped peaks\",\n",
        "    \"Antique furniture\",\n",
        "    \"Horseback riding\",\n",
        "    \"NBA games\",\n",
        "    \"Swimming competitions\",\n",
        "    \"Winter wonderland\",\n",
        "    \"Street performers\",\n",
        "    \"Historical monuments\",\n",
        "    \"Beach scene\",\n",
        "    \"Family gathering\",\n",
        "    \"Abstract artwork\",\n",
        "    \"Classic cars\",\n",
        "    \"Cute animals\",\n",
        "    \"Cityscape\",\n",
        "    \"Mountain view\",\n",
        "    \"Landmark\",\n",
        "    \"Healthy food\",\n",
        "    \"Outer space\",\n",
        "    \"Wedding\",\n",
        "    \"Cartoon illustration\",\n",
        "    \"Home decoration\",\n",
        "    \"Wildlife\",\n",
        "    \"Fashion style\",\n",
        "    \"Ancient architecture\",\n",
        "    \"Craft projects\",\n",
        "    \"Fitness exercise\",\n",
        "    \"New technology\",\n",
        "    \"Travel\",\n",
        "    \"Pets\",\n",
        "    \"Floral arrangement\",\n",
        "    \"Nature landscape\",\n",
        "    \"Furniture design\",\n",
        "    \"Animal running\",\n",
        "    \"Sports game\",\n",
        "    \"Swimming pool\",\n",
        "    \"Winter scenery\",\n",
        "    \"Street art\",\n",
        "    \"Historical site\"\n",
        "]"
      ],
      "metadata": {
        "id": "YuRwOsNYZ6Tc"
      },
      "execution_count": null,
      "outputs": []
    },
    {
      "cell_type": "code",
      "source": [
        "for query in additional_queries:\n",
        "    print(f\"Generating data for: {query}\")\n",
        "    query_term = query.lower()\n",
        "    generate_data(query_term)"
      ],
      "metadata": {
        "id": "Yn87CtQWuyg6"
      },
      "execution_count": null,
      "outputs": []
    },
    {
      "cell_type": "code",
      "source": [
        "more_queries = [\n",
        "    \"rock\",\n",
        "    \"pop\",\n",
        "    \"hip hop\",\n",
        "    \"rap\",\n",
        "    \"electronic music\",\n",
        "    \"EDM\",\n",
        "    \"techno\",\n",
        "    \"house music\",\n",
        "    \"ambient music\",\n",
        "    \"world music\",\n",
        "    \"folk music\",\n",
        "    \"country music\",\n",
        "    \"reggae\",\n",
        "    \"ska\",\n",
        "    \"punk\",\n",
        "    \"metal\",\n",
        "    \"indie music\",\n",
        "    \"alternative music\",\n",
        "    \"experimental music\",\n",
        "    \"film genres\",\n",
        "    \"movie reviews\",\n",
        "    \"cinematography\",\n",
        "    \"film festivals\",\n",
        "    \"movie soundtracks\",\n",
        "    \"film directors\",\n",
        "    \"actors\",\n",
        "    \"actresses\",\n",
        "    \"film awards\",\n",
        "    \"Oscars\",\n",
        "    \"Golden Globes\",\n",
        "    \"Cannes Film Festival\",\n",
        "    \"movie franchises\",\n",
        "    \"superhero movies\",\n",
        "    \"animated movies\",\n",
        "    \"documentary films\",\n",
        "    \"foreign films\",\n",
        "    \"independent films\",\n",
        "    \"cult films\",\n",
        "    \"film noir\",\n",
        "    \"horror movies\",\n",
        "    \"thriller movies\",\n",
        "    \"action movies\",\n",
        "    \"adventure movies\",\n",
        "    \"sci-fi movies\",\n",
        "    \"fantasy movies\",\n",
        "    \"romantic movies\",\n",
        "    \"comedy movies\",\n",
        "    \"drama movies\",\n",
        "    \"biographical movies\",\n",
        "    \"historical movies\"\n",
        "]"
      ],
      "metadata": {
        "id": "WFcDCCDXP36I"
      },
      "execution_count": null,
      "outputs": []
    },
    {
      "cell_type": "code",
      "source": [
        "for query in more_queries:\n",
        "    print(f\"Generating data for: {query}\")\n",
        "    query_term = query.lower()\n",
        "    generate_data(query_term)"
      ],
      "metadata": {
        "id": "MTqGtSrNjusF"
      },
      "execution_count": null,
      "outputs": []
    },
    {
      "cell_type": "code",
      "source": [],
      "metadata": {
        "id": "i72j92UyA3zw"
      },
      "execution_count": null,
      "outputs": []
    }
  ]
}
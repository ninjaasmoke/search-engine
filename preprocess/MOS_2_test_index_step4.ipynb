{
  "nbformat": 4,
  "nbformat_minor": 0,
  "metadata": {
    "colab": {
      "provenance": []
    },
    "kernelspec": {
      "name": "python3",
      "display_name": "Python 3"
    },
    "language_info": {
      "name": "python"
    }
  },
  "cells": [
    {
      "cell_type": "code",
      "execution_count": null,
      "metadata": {
        "id": "1KKZ2RUcQuCS"
      },
      "outputs": [],
      "source": [
        "import csv\n",
        "import re\n",
        "from google.colab import drive\n",
        "import os\n",
        "import pandas as pd\n",
        "from collections import defaultdict\n",
        "from nltk.corpus import stopwords\n",
        "from nltk.tokenize import word_tokenize\n",
        "from nltk.stem import WordNetLemmatizer\n",
        "from nltk.stem import PorterStemmer\n",
        "\n",
        "import nltk\n",
        "import ast\n",
        "import json"
      ]
    },
    {
      "cell_type": "code",
      "source": [
        "nltk.download('punkt')\n",
        "nltk.download('wordnet')\n",
        "nltk.download('stopwords')"
      ],
      "metadata": {
        "colab": {
          "base_uri": "https://localhost:8080/"
        },
        "id": "Dly_49BoQ1wQ",
        "outputId": "b70a7031-730b-4b99-a28f-7c2ca419fcf5"
      },
      "execution_count": null,
      "outputs": [
        {
          "output_type": "stream",
          "name": "stderr",
          "text": [
            "[nltk_data] Downloading package punkt to /root/nltk_data...\n",
            "[nltk_data]   Unzipping tokenizers/punkt.zip.\n",
            "[nltk_data] Downloading package wordnet to /root/nltk_data...\n",
            "[nltk_data] Downloading package stopwords to /root/nltk_data...\n",
            "[nltk_data]   Unzipping corpora/stopwords.zip.\n"
          ]
        },
        {
          "output_type": "execute_result",
          "data": {
            "text/plain": [
              "True"
            ]
          },
          "metadata": {},
          "execution_count": 2
        }
      ]
    },
    {
      "cell_type": "code",
      "source": [
        "stop_words = set(stopwords.words('english'))\n",
        "\n",
        "with open(\"stopwords.txt\", \"w\") as f:\n",
        "    for word in stop_words:\n",
        "        f.write(word + \"\\n\")"
      ],
      "metadata": {
        "id": "Hf_uE9-dy1b4"
      },
      "execution_count": null,
      "outputs": []
    },
    {
      "cell_type": "code",
      "source": [
        "drive.mount('/content/drive')"
      ],
      "metadata": {
        "colab": {
          "base_uri": "https://localhost:8080/"
        },
        "id": "ZstqJL9XQ3Gh",
        "outputId": "31f08570-c7ab-4070-dd62-37ba4ae62fe8"
      },
      "execution_count": null,
      "outputs": [
        {
          "output_type": "stream",
          "name": "stdout",
          "text": [
            "Mounted at /content/drive\n"
          ]
        }
      ]
    },
    {
      "cell_type": "code",
      "source": [
        "def read_json_file(file_path):\n",
        "    with open(file_path, 'r') as f:\n",
        "        data = json.load(f)\n",
        "    return data\n",
        "\n",
        "def save_json_file(file, file_path):\n",
        "    with open(file_path, 'w') as json_file:\n",
        "        json.dump(file, json_file, indent=4)\n",
        "    return \"Done.\""
      ],
      "metadata": {
        "id": "tk4br42PQ4Ip"
      },
      "execution_count": null,
      "outputs": []
    },
    {
      "cell_type": "code",
      "source": [
        "inverted_index = read_json_file(\"/content/drive/MyDrive/MOS_2/Index/inverted_index_v3.json\")\n",
        "# document_info_map = read_json_file(\"/content/drive/MyDrive/MOS_2/Index/document_info_map_v3.json\")\n",
        "# final_inverted_index = read_json_file(\"/content/drive/MyDrive/MOS_2/Index/final_inverted_index_v3.json\")"
      ],
      "metadata": {
        "id": "3Ztni2jPRLcw"
      },
      "execution_count": null,
      "outputs": []
    },
    {
      "cell_type": "code",
      "source": [
        "# # Initialize lemmatizer and stopwords\n",
        "# lemmatizer = WordNetLemmatizer()\n",
        "# stop_words = set(stopwords.words('english'))\n",
        "\n",
        "# # Function to tokenize text\n",
        "# def tokenize_text(text):\n",
        "#     tokens = word_tokenize(text)\n",
        "#     tokens = [lemmatizer.lemmatize(token.lower()) for token in tokens if token.isalnum() and token.lower() not in stop_words]\n",
        "#     return tokens\n",
        "\n",
        "stemmer = PorterStemmer()\n",
        "stop_words = set(stopwords.words('english'))\n",
        "\n",
        "# Function to tokenize text\n",
        "def tokenize_text(text):\n",
        "    tokens = word_tokenize(text)\n",
        "    tokens = [stemmer.stem(token.lower()) for token in tokens if token.isalnum() and token.lower() not in stop_words]\n",
        "    return tokens\n",
        "\n",
        "\n",
        "print(tokenize_text(\"a man running in the mountains\"))"
      ],
      "metadata": {
        "id": "jnmXk161c4Pm",
        "colab": {
          "base_uri": "https://localhost:8080/"
        },
        "outputId": "a01b6196-4b2b-429f-a80e-f9b07218dbbc"
      },
      "execution_count": null,
      "outputs": [
        {
          "output_type": "stream",
          "name": "stdout",
          "text": [
            "['man', 'run', 'mountain']\n"
          ]
        }
      ]
    },
    {
      "cell_type": "code",
      "source": [
        "final_inverted_index = {} # read from the saved index\n",
        "\n",
        "# Compute term frequency (tf) and document frequency (df)\n",
        "for token, doc_freqs in inverted_index.items():\n",
        "    # Compute term frequency (tf) for each document\n",
        "    tf = {doc_id: freq for doc_id, freq in doc_freqs.items()}\n",
        "\n",
        "    # Compute document frequency (df)\n",
        "    df = len(tf)\n",
        "\n",
        "    # Update result map\n",
        "    final_inverted_index[token] = {'tf': tf, 'df': df}"
      ],
      "metadata": {
        "id": "MMCydVBzRX6d"
      },
      "execution_count": null,
      "outputs": []
    },
    {
      "cell_type": "code",
      "source": [
        "# save final_inverted_index\n",
        "save_json_file(final_inverted_index, \"/content/drive/MyDrive/MOS_2/Index/final_inverted_index_v3.json\")"
      ],
      "metadata": {
        "colab": {
          "base_uri": "https://localhost:8080/",
          "height": 35
        },
        "id": "BRpfymskX7vl",
        "outputId": "f6f3bddc-a92f-4860-c423-2ff84252857e"
      },
      "execution_count": null,
      "outputs": [
        {
          "output_type": "execute_result",
          "data": {
            "text/plain": [
              "'Done.'"
            ],
            "application/vnd.google.colaboratory.intrinsic+json": {
              "type": "string"
            }
          },
          "metadata": {},
          "execution_count": 10
        }
      ]
    },
    {
      "cell_type": "code",
      "source": [
        "for term in final_inverted_index:\n",
        "    ii = final_inverted_index[term]\n",
        "    print(ii)\n",
        "\n",
        "    break"
      ],
      "metadata": {
        "colab": {
          "base_uri": "https://localhost:8080/"
        },
        "id": "El5FA5l1RPVZ",
        "outputId": "7280c85f-0a58-4e6d-dc21-5e6aca91213e"
      },
      "execution_count": null,
      "outputs": [
        {
          "output_type": "stream",
          "name": "stdout",
          "text": [
            "{'tf': {'90d31fab-feaf-4056-b23a-5efb3df637ad': 2, 'd53485ab-c6c0-49b6-97f7-1a66a2222e7f': 2, '849ae88f-1692-422e-baaa-558cbe87782c': 5, '89a99fde-87df-490d-b814-2cea5533aa33': 5, '37cd0fbf-9641-4df4-87a0-8c7e3806fc54': 2, '951a453b-7006-4559-ab75-05f79a414afb': 2, '5ba1495e-b906-456e-b268-b76566da0900': 3, '44c3992a-de86-4a70-a29d-5b21c9cc51ec': 3, '6d293622-a554-47f3-8822-e05c858dfdcb': 2, 'c90c3de5-b659-480d-91a6-fab461d950e3': 2, 'c63be184-434b-4045-acb6-b6f26f683640': 2, 'a80cdd41-af06-45bd-893b-82bd92a0f55c': 5, 'aab3cca5-3e31-444d-af51-03b0e0b58476': 2, '95e05890-523f-41c2-ab65-9a86b5ab3c25': 2, '7f9e8b5e-d70d-4ef4-86d6-2eeb472e15b2': 5, '5197f3be-9613-48ea-8008-8eed64ae4bcd': 2, '429e63a8-26ef-4374-8f60-7b53dc26955e': 2, '45b20db7-9f3d-4ba2-b7e0-0180523fe424': 1, '9a1830e4-4985-4632-a11b-debf5ffc31b5': 2, '77347f14-c1f9-4463-80cc-2ffb1e08c77e': 5, '013ecdc0-55fb-4f8f-991c-c888d69ad8a9': 2, '5150408f-14ef-402c-805b-cc9ac70ea4a3': 2, '33a8196c-aec6-46c1-91b9-75061fb82bae': 3, '63350476-c100-4a8c-a035-9f795d75efaf': 3, '9b9e5151-e36a-4a61-82c0-cfce36bdc87d': 6, '89fab2f5-b2fa-4552-81b7-4926ff4feacd': 3, 'c6abaf7e-c21b-4a1a-9b6c-d70a89a0c3f5': 5, '1e2039c0-73a4-4503-a2f1-8aa643339490': 2, '00b73bcc-87a5-431a-aecf-5e04736cca06': 3, '421fa004-78b7-4f8c-adaa-f64104033412': 1, 'eec5557c-6856-4370-b1cb-38f673b4312c': 2, '56bb65b6-b154-4bfc-9ec8-bc4bbc25be0e': 5, 'ec58aceb-f979-4457-9704-ad8e87bd1a65': 2, '70f2b765-6e96-4bef-be9f-47ad53e39b3e': 3, 'd4f310d6-a5a1-41b2-89a6-1373e0bcca0a': 2, 'c993819a-6377-400a-9fb1-b7f6056ff6cc': 6, 'b3da19d7-428f-45c5-9997-60c5867ad920': 2, 'b791c0c5-7d6b-4bc8-880d-c29cab988734': 2, 'fcdd501d-ce77-4f23-bfe0-8bcc1168c279': 2, '5ba56a23-08e5-4544-89cf-b8ddf6c8a67a': 2, 'd0d1afcf-fe0f-410f-bba5-edd9cf2825cb': 3, '9061fe5c-ca49-4a86-a37f-0446e9eb6fcb': 3, '6951ea84-6d64-4bcd-901a-74122fbdce1f': 2, '5706f107-b3ae-4889-9b2f-10fc473f83a8': 5, 'a2c9f667-2a14-4e5c-8d14-c225d66db238': 2, 'debbbc90-836a-4252-98f5-48709ab8662c': 7, 'af444e05-0b82-4166-aa24-198413902bc4': 2, '60ddee9b-020b-4573-b424-8ac8961bd944': 2, '1e282de1-5aa5-40f9-99de-4f6f02be3928': 3, '84320117-f88a-4726-9a54-56562277c0e9': 4, '4b10d83c-82db-44a5-89f4-90a7b95f237f': 4, 'ce5c8c4d-b22c-4e3e-845b-a37e73ed48a8': 4, 'a812b03e-c080-456b-8e34-0a74e4391f65': 2, 'c969f640-14cb-4306-b8d5-38b46e16d62d': 2, 'e25098d4-9520-4dc4-ae6e-c32c034254a0': 2, '57825f63-1db7-46f1-b835-15c780bb9fb4': 5, 'dcf4eaa1-c488-49b7-84ef-913406c521bb': 2, 'f748e99d-daa3-4f22-b1a1-f6d2f65bf5f4': 2, 'de517194-e73e-44a6-9130-790244e0afa5': 3, 'cbb1ddd3-4f03-457b-85f2-f807c9de73ef': 2, 'e0a70532-d744-4110-b02f-f9e5a582297e': 2, '5fadf487-79d5-482c-8613-0f3a5c7d0edc': 4, '7125dfe9-7fad-46e8-a3fd-494d7f5e5ecf': 2, '8d45e504-609f-439a-8572-77b7dfb53b6e': 3, '02b5d9bb-8e6e-4e58-9bb9-181d46b47f65': 6, '75467f81-a505-4e11-8bc6-34298fb56291': 2, '98864979-5435-4d27-9f40-988979451234': 2, '020055ed-5a1f-448c-a323-b5f09cd4e538': 2, 'c92d55ef-9e49-414c-b3af-1d8b7cd9aaf4': 2, 'de572476-c993-4999-96d6-3a2c8a840df6': 3, '243e4bea-5701-4902-ae5f-8aab8aba77c3': 5, 'b3bf15e1-3af0-4a2f-b40e-f5584c940b96': 2, '7b06afce-b454-4628-a042-c256b9cfa818': 2, '75e2a411-c9f9-4182-98d6-176df3eb8cd1': 3, '1dae4245-fea4-478f-b1ab-1590a9de713e': 2, 'a8afd45a-abb0-4cf8-820e-6d6462752485': 5, '883c1edf-f4a4-4064-847c-62c7636980b0': 2, '35a8ccdc-b60a-4968-9a67-b8962a0a5c52': 5, '83891b89-b1db-46a2-9ec4-bdfad649847e': 2, '2d6fabb7-bf5a-4c15-b042-801cabc8b9fe': 2, 'f7db4645-ac71-43e3-b847-75c8d323a7e0': 11, 'cb636542-0a3d-460d-9115-bd32d5791b7c': 2, '2d5cd5f8-cf6d-47fb-bf4c-53af233272ad': 2, '11f7a034-2094-4e15-b64a-add632b6ac64': 4, '543ba848-93e3-46a4-bac0-864d38faa05a': 1, 'cd415be0-9f71-4170-b32b-5943bd674624': 2, '6a60c4a1-f06e-4575-a778-5181413bbdc2': 2, '5d5dad79-f6c3-43d4-8a45-89386fdc464b': 7, 'aa0e36ef-ef4e-414f-b432-e8c599b445dd': 5, '5d14e0d6-5219-49aa-badb-037c4eac693c': 2, 'b86661e5-c542-4549-b0cf-c461246fd024': 2, 'e822f8fc-db83-4919-9089-ce5b1fca7a6f': 3, '60376bd3-f441-43c7-9316-330336d1ad34': 8, 'e28fa7ad-5418-4350-8ad1-4666d51fbf88': 3, 'dba8e6e5-0361-4027-84d3-d0ca848430f2': 5, '75a57624-e99b-40bf-9510-09c0bcda137d': 3, '8095439b-f21d-4a29-9a32-9dc370c15adf': 2, 'd749a8a0-f208-4a7e-8d70-4cd53ddb85e4': 3, '08119174-a6d0-4d3c-ab0b-0ee8e93c0843': 3, '7cac9255-5b89-4484-b3d4-d158eb5aa3ab': 3, '73b8332b-6ee6-447d-b9f3-07f816f0d1f3': 2, '009802f8-5013-4c6e-96c1-e2b94ab9cf3b': 2, '0e678188-2b54-4fcc-840f-aefbe600f1f4': 5, '8aa4335b-920a-4e97-9f23-22547dd46c96': 1, '26ed9868-b3eb-4b6c-b421-625b5add1336': 2, 'df5e982c-96f2-4ecc-9b0a-f2eb9e7d1cf3': 3, 'bb80a506-2eba-4657-9ea0-5136fc96bebd': 5, 'ca3f5eaa-ec82-4b34-8ea9-d097a811a9e5': 3, '3796c432-c5dd-4419-a68f-f48c169b158c': 5, '0b03b5e8-18dd-44f6-a14f-c93ef88b22a4': 5, '6e75e093-f0e1-4e99-a27a-559821473d9b': 3, '3691c696-64f6-4ea3-90db-5666d9b02c28': 7, '423a647b-cfbf-4ec1-a816-76c7ffbe056f': 3, 'aea447c8-e42d-44fb-97bb-a58266268e28': 5, '2b9d9b76-fc92-46e8-8cb2-aff5fd239fe7': 7, '9b14bdeb-0172-496b-b141-55069a290b20': 3, '112f1a55-5352-42d0-8412-dbe269537f07': 3, 'a0110a3d-9590-449d-b3eb-a26c5d7d1c71': 2, '226f5177-1e72-490c-9e1c-0843cb23ed99': 3, 'e0e4e1d0-9b99-4424-a870-614160d1f066': 5, '4e0fd4b7-0961-4537-9d8c-b5808f44e0d5': 3, '59979900-7634-45b1-859c-0230bbeb3122': 3, 'd870b5e2-cf69-4e66-8ea0-d6f21001b480': 7, '4a7ec088-46f9-45bd-b22d-cb9617aae14a': 5, '9fd05b42-1bc8-4e91-8ffd-0172de0606be': 5, 'feb3bd0a-57e6-476a-886f-8d7e57213055': 2, '9411553c-0107-4524-a1a2-0ab8135aac5c': 2, 'de9d01d8-68b2-42df-a286-49b97f69a0be': 5, 'b1964c2c-df9e-41d8-a821-46d0200cf411': 2, 'e12b0955-bf95-4551-80e0-5a8329b3bb48': 2, '7fabdf57-56f6-43c6-8daf-499938472e46': 2, '80784e9b-4650-4d2f-8b62-d6fa1afa85d9': 2, 'c59c571f-4db0-4751-9b1b-08a34426c4a6': 2, '483b335b-e6bc-4dfd-b7cc-ec76a31d6c3b': 3, '7276ff45-39f8-408e-951e-a6fb087bd896': 3, '56b13f98-ab1c-4ccc-9e4f-53651f630bb0': 2, '73418b07-e738-4bde-bd9c-e193346867b2': 3, '43c1af1e-6077-473a-9266-70c11f65249b': 3, '184892be-5a6e-4a7e-8858-a7713e2bf6a9': 2, '3180539e-407a-4284-b8fb-5bb60686b031': 2, 'ad41fc85-8ac4-4257-a1dc-7060ff6c953f': 2, 'c21d4c74-7893-45ec-b9fe-8e8fe0b0a104': 2, '818a19ce-83d8-4787-a665-fd6a31c84256': 3, '7bb6cb9f-2195-40d1-bd64-e4c591fa2d6d': 2, 'bfff4551-9f08-497d-84bc-fc3691dfeb63': 2, '4464ea61-f0de-4a52-b214-3215304580b6': 2, 'cd7f4ba9-961f-46bf-bec6-ea154b0d3685': 3, '3b9b4bf7-3ce8-46c9-917e-14a8f1754c8f': 2, '810b8ebb-c973-4d31-83ae-251d15e64632': 3, '76c7abf5-5c8a-4441-a820-d51fa4388dcc': 3, '7bd6b2e3-a053-4523-9681-f03c408c7a10': 2, 'd4c446b3-1313-4c38-b1e9-9c55436fec10': 2, 'e22ce0db-c0ff-453d-a338-1d61b277fae6': 2, '9feb8287-7f46-4f22-954a-025eb032ea31': 6, 'f6d9fa39-3b47-44b7-878a-1480c37c40a2': 3, '123d889c-87b0-4287-8850-bab15051640a': 3, '1218788c-3f8f-4c6c-ba75-ec71efb8be8d': 2, '350ea442-8ea1-4da4-a715-73b2d952f027': 2, 'abf799ab-15a6-4419-a14e-aabaf2e70e57': 2, '0bfd5aa8-db5d-46f9-9a78-44e1db0a6ecd': 5, '438a2063-79ba-4555-8117-d98e49922845': 2, 'c099fc67-799f-4560-8413-f4d2f2f3748b': 2, '57dbb7a2-4576-4a49-8330-2c0e9fecf272': 5, 'cde33ccc-af85-40b7-9d77-7acb275ca3db': 2, '5a20abdb-0063-4744-9f7c-97a0ae59a840': 2, '13220918-8ee6-4a47-a414-edc2432a1583': 1, 'dabf1383-5395-4e29-87ac-d65105ab2929': 2, '79b390d2-48a0-4bdb-99cc-9ff5f5102a81': 5, '3a6508e0-2a2a-4d73-bff9-3b71cb0298a6': 5, '0eef2226-8c35-4af8-a0b2-9a0b754c4904': 2, '5e10f6f1-e3ee-4824-8ce7-339f69c1fa58': 2, 'a7d6e944-d5ff-41a0-aeaa-a8fac4edaf22': 9, '96b5d8a2-3044-428b-8841-f1b37b81a993': 2, '45c77fbc-b04f-4681-b025-5bc3cb0df571': 4, 'a9673363-de9c-4db1-846e-bb8397e45bec': 9, '3f2bd327-0611-40e8-9b0d-f93f16f3d2fa': 2, 'eeb2a13a-fdb1-4e24-9f20-8ff4820cc2f2': 3, 'ab87b021-492c-46ce-acc1-97b6e6f4f1e4': 9, '4afa403e-be32-44ff-a81c-47313939e896': 3, '4c34ebb4-91c1-448f-b73b-96ede0707ae8': 2, 'd7d35784-0f48-4037-9168-0372a5fdfd72': 3, '1a89f22f-1b74-411e-99e6-d5afef81f2f3': 2, '4ca56c44-8e00-434c-a14e-72903f0ce8a5': 2, '5760d5ea-d930-4ce6-94db-b00febd33826': 2, 'e647061e-e9a3-46a8-aea3-dd66495bccb6': 2, '4cda4f0d-84a7-47af-9165-a211ea47cec7': 2, '15c211e4-279e-4410-9df6-2b1a91acf0ac': 3, '7be24147-44c2-4a45-84fe-cd314a7fd74e': 2, 'f22f5ec2-0c8c-41a4-9886-5e742955bc4b': 2, '4ea53024-962d-4f25-90a4-2bb0636d02df': 2, '291ee57a-7f76-4be9-8d8f-4877e1bbf64d': 2, '0a0994d4-b7c0-4479-9ec2-31604b9b9e97': 2, 'e2419b4d-94fa-4c2f-b05d-80e3d292a4bf': 4, '95ac16df-629b-4463-8a12-d948913e51e3': 2, 'e588c3c3-e7d1-4ee8-8457-e190085770b7': 3, 'bec9219d-bdea-4feb-9171-34fe5c8554c9': 3, '8d2e3e3b-e57b-4f22-88a8-5e2188e3b684': 2, 'c9f6dcc8-da8e-4284-8a11-91fce724fe34': 2, '6ec31ba1-3449-4987-aca5-29a27155b362': 4, 'ab4cfd64-6654-45c3-b87b-34058859f7f4': 5, '83c8d6ad-d577-4c9a-9ff8-e42af90bfcdb': 4, '5a3f48b9-3647-4b18-bb8a-e1749a3a111f': 8, 'c84c443d-9762-4281-9a12-e6c4af9f6b98': 4, '405aae63-20be-46d7-969e-5c19a23bff5b': 1, 'fcbe5a33-c884-4933-9340-9acb12319aa5': 3, '885ac078-edde-487e-b3c1-127acbea0e53': 2, '8966171e-74f0-4bb9-8b16-85fafdcc3e4f': 5, '128f8dab-d52c-476b-a792-e2308fe045d2': 3, '883c4707-9e5b-43f3-9604-aae62ffecd3f': 3, '1ed65455-65a9-4de9-b57f-c9048564805b': 3, '9cb0bdf9-03ac-4ce8-a83d-85fe5d275dbe': 3, '7e924d4c-34d1-4eeb-a50c-72fc606acaae': 2, '211d9b9f-6e1d-47a3-975c-15fc150d340d': 2, 'f777892c-5344-4d9f-95f8-93c7d0bcd77f': 2, '2e033442-222c-41e7-8f11-2764b1aa70b0': 2, '0c021408-0353-476d-a291-eb4c692fabff': 2, '9eeca850-fbae-4810-b901-0a02bf07fef9': 4, '3b93f1be-3854-4444-8262-6ea5baa47507': 1, '332cc0ef-cb13-456e-a141-b215dcd7109a': 2, '2de02cae-059a-4df4-9c10-45a9b3aea1c0': 3, '7f24d746-5553-4c4f-8c54-28a4861d8f9d': 2, '576a2723-d20e-4b46-93d8-9fa276b66fb6': 1, '249c1aec-b47c-4566-8ee4-e47432c031e8': 1, '41ad1c91-d2bc-435d-bea1-124d6ed6fef8': 2, '4e8aef05-5b69-48b1-a8d7-c0a66eb00a77': 2, '4ef1b399-fccc-40da-85aa-096668954717': 2, 'e08da68a-592f-49ab-bf62-146405ac638b': 2, 'c78d77b6-59a4-4167-bcc9-73f2f456fe36': 2, '0d4bc6b6-b465-4d9c-9e5c-265a7050bb55': 1, 'cdf0e356-7bfe-485e-834d-eef835ee8ddc': 2, 'dba16b89-354d-4848-a65a-40d3834b7fc5': 2, '01b2578d-14e8-427b-ac24-feff386522eb': 4, 'e8fa3e67-8a9d-4461-8276-d9ef5fe4baf5': 3, '26f4cb48-969a-4c59-8db8-983f2c36a058': 2, '312b4390-e453-4925-9d2b-d4c0993e7e8b': 2, '15230d0e-4dfb-4a7c-ba75-81361dbebb39': 3, '89cb7c16-3cf5-4953-999c-5fe0606e3b2f': 3, '6fdec67b-12d3-4222-be06-8ee9b1662f0c': 2, '44393791-dd4b-471a-b186-814de5336a1b': 5, 'c30b69bf-a8c8-44ad-b30c-a2236e553e7c': 2, 'dab4d91c-7c68-4cae-9b02-4edd6050ccf4': 9, '35bae5f4-87eb-4532-b342-c237a1cbd950': 2, 'd24f8e07-86b7-481d-aeff-a4f1341b3bf2': 2, '86feca27-021c-41b2-9650-e41d2bbdd6d2': 2, '10778065-ec7f-4ceb-b3c0-42503123bc08': 2, '9b6516fb-c231-4047-a931-4ad3abfbf1f2': 4, '9751bbc5-019a-4689-8fe9-178778e2fe10': 9, '93d9fbb2-6c30-4fae-ad2d-e646c42c095b': 2, '2721f7f7-80d7-4e78-b788-0904c8d107bd': 3, '5d0ee1ca-3593-4db6-b879-9c97fcff06d8': 9, '68196e81-2290-46dc-8585-59d845785772': 3, 'ed2b3590-fc58-404c-88de-508cbb23d706': 8, '57e92eeb-8acc-4993-a2ce-8361c19df994': 2, '1c2ae62b-0ab6-483d-be67-4c6390a40bd3': 3, '93a098a2-c2e0-45e1-94e8-431c0847d4f3': 2, '6aa8aff4-e9ca-45cb-8e1d-6a232dc0904c': 3, '4507dd37-ba9a-4aab-ac54-77111b4f53be': 2, 'b92ace9d-9c0a-4c83-abec-076c1a749146': 3, '1c5c5fac-8ff1-4740-84db-5f2057918f53': 3, 'eaa7828b-a2d8-4db0-a37a-ec8bf880e2a0': 3, 'a2367459-abec-4a54-a9b2-fccfaa3ba3c4': 2, 'c12f279f-dbbe-487d-bc88-502d2a30a336': 2, '38643883-a310-4dd7-a043-0ca63f0470ee': 2, '7bc04a60-7ba3-4d28-9bdb-f17873b0469d': 5, '8e2e1997-eebb-4a72-bf73-c21e1a5f3819': 2, '4f2ac956-5750-4a6f-a2f7-217255b07b70': 5, 'e8c8232f-f93b-4326-bc07-b3b6e05a6ea7': 5, 'b04cae31-6b22-4979-b684-e8e2d6e08557': 3, 'a2190836-5aff-4e11-a70f-263558f6c0d4': 3, 'db76ab60-c840-469e-ae2a-154f1ad0b60a': 3, '996c29b1-4ae9-4f6f-9370-d9400d913eed': 2, 'a3739317-5d1e-4ddf-bc2b-824295e6cf4e': 2, '87d0b6a2-da9f-4e8f-a463-fcf469cbe996': 2, '1011e6e5-4923-4add-9ecc-64d72ea0018f': 5, '314f0738-90f6-4008-8882-57421eaa26f8': 2, '88e547ee-ad55-4a0b-a690-338fb243f1af': 2, '7d52702c-0109-478d-81f9-2e621798b3ef': 2, '344da735-68c7-4fea-b362-4ee1959ab825': 2, '1f6753ba-41fd-444f-aadc-e8afcff716fd': 2, '0ec0f71e-35fb-4e8c-93cd-24df957c91f8': 2, '13e01393-6998-4d47-95ce-d31d58602156': 2, 'faa71ff2-5ca6-4aad-b670-f3a58bf4e09a': 1, '8cc84473-ef85-4758-bd5e-f8e75e1f34a3': 1, 'e827f04c-fb42-4c38-b7ce-7bdc9d66e2bf': 2, '36b2a8cf-5f42-47d9-8858-a72d5490ff00': 2, '7ffa86fb-7f47-4412-8be7-cbea02807c61': 2, '19781494-40f9-4ee3-85f4-73a36a4c0439': 2, '00a3301c-cb7e-4f39-bef8-0213408b15e9': 2, '95be1544-9d3c-4196-a07a-62c2715c23bb': 2, '1004c063-3e31-4dd9-9c80-58f341ef06a1': 3, 'cb9203d7-3541-42a7-a5c8-0a8c2d649bd2': 3, '456f896f-a716-45e2-86ca-dcab96c07098': 2, '9948b7c7-07a2-461b-ad69-c3cee6c8258e': 5, 'bac8acd6-3768-40dc-be28-017f2508ca9e': 2, '30f76d28-008b-445f-b104-11e614807f91': 7, '242e9cde-6e64-4d8e-88e8-fb82570b9a0d': 3, 'f015f096-d63a-4fe7-8daf-534a6f37649a': 2, '9d173fe3-b861-4756-b4fb-5770b9719387': 2, '6610ab15-e9f0-4576-9a70-e083e92339c0': 6, 'e80681fd-24eb-48fd-9f42-47dde8480d7c': 2, '1a390c29-fc13-43d6-87e5-ab5d561af93d': 2, 'b2bfb100-4422-40cd-a31d-9629c0511101': 3, '157e1422-75aa-449b-86a2-cf82b1f42e9a': 2, 'a03326bc-cd49-47a2-ac1b-6900f1805591': 2, 'c1200ca7-713b-4d01-8a65-60b45b2ac141': 2, '50584c6b-5bb6-479c-a521-d37f5a30fffd': 3, 'fb9a67c7-a1dd-4cb9-9426-658556e2a03b': 3, 'f597f5f3-40c4-49f5-aaae-febe62dad609': 2, 'c636f17e-84dc-428f-8f38-bbf48bfbf12b': 2, 'ecd22cd9-c699-49bd-9083-118677fa2174': 2, '9f84436a-e75d-43b1-acd5-e150777dda57': 5, 'd3e7780e-fd30-4bab-9bf9-a578f8f7a524': 1, '74bda185-ffa4-4ff9-b45f-226f685a79fb': 2, '6534634e-78a9-4483-9db0-0a588cae9b16': 2, 'f3fbde8b-c80d-45ae-9f4e-6d29d624a348': 5, '39040412-89a8-4478-aaa2-82ec305b759b': 2, '309ca200-3c3e-4631-bd24-c38f68f74f17': 4, '4d0dd9eb-81ac-4274-9ae6-c995d573f024': 2, '50bbbd06-fc11-4509-abe5-873b39a156c3': 2, 'f97d9e65-32da-441c-8392-c0c053bf9af9': 3, '734213fe-a69a-4b37-81e7-cbf3cdd27290': 3, 'dc6761e7-8813-44a8-bca6-3a396fd9ca7d': 3, 'e5be5d76-15d8-437e-9c52-48ef978343cd': 1, 'd9076ad8-e5af-45fd-9442-fb148029e39e': 1, 'bafa8e16-fc25-4438-9041-4d7a7a0523bf': 3, '898c74b3-eddb-4e93-8060-d4520262af17': 5, '9c771661-028d-42b3-91e2-d146a11455b1': 4, '707f363c-5862-480e-b03d-9d4918ef6fd9': 2, '32b97fe8-29ad-438e-ab3e-21f4989eafde': 2, 'ae31d9ea-f27f-458a-9b89-a10ba9854603': 2, '6657d911-b003-4ae7-904b-99082c70b4ca': 2, 'df13a740-ae2c-45d0-9496-3bbe041aeee6': 8, '4bdde979-0b8b-4cbf-a810-ff811a345d7b': 2, '9e977707-76b3-4bbe-887b-5da7f79225c8': 2, '82cbeb29-0984-40d4-af6c-90a05759d269': 2}, 'df': 335}\n"
          ]
        }
      ]
    },
    {
      "cell_type": "code",
      "source": [
        "document_frequency = {token: info['df'] for token, info in final_inverted_index.items()}\n",
        "total_docs = sum(document_frequency.values())\n",
        "print(total_docs)"
      ],
      "metadata": {
        "colab": {
          "base_uri": "https://localhost:8080/"
        },
        "id": "abMjvjISUIXd",
        "outputId": "dfee66ea-f3a3-48c9-cf61-52e734cf0223"
      },
      "execution_count": null,
      "outputs": [
        {
          "output_type": "stream",
          "name": "stdout",
          "text": [
            "234965\n"
          ]
        }
      ]
    },
    {
      "cell_type": "code",
      "source": [
        "parent_dir = \"/content/drive/MyDrive/MOS_2/\"\n",
        "tagged_1_dir = \"Tagged\"\n",
        "tagged_2_dir = \"Tagged_v2\"\n",
        "tagged_3_dir = \"Tagged_v3\"\n"
      ],
      "metadata": {
        "id": "-5jOLYu0U_Fj"
      },
      "execution_count": null,
      "outputs": []
    },
    {
      "cell_type": "code",
      "source": [
        "tagged_1_files = os.listdir(parent_dir + tagged_1_dir)\n",
        "tagged_2_files = os.listdir(parent_dir + tagged_2_dir)\n",
        "tagged_3_files = os.listdir(parent_dir + tagged_3_dir)"
      ],
      "metadata": {
        "id": "xlzJYRpiWMdj"
      },
      "execution_count": null,
      "outputs": []
    },
    {
      "cell_type": "code",
      "source": [
        "tagged_1_csv_files = [parent_dir + tagged_1_dir + \"/\" + file for file in tagged_1_files if file.endswith('.csv')]\n",
        "tagged_2_csv_files = [parent_dir + tagged_2_dir + \"/\" + file for file in tagged_2_files if file.endswith('.csv')]\n",
        "tagged_3_csv_files = [parent_dir + tagged_3_dir + \"/\" + file for file in tagged_3_files if file.endswith('.csv')]\n"
      ],
      "metadata": {
        "id": "p_oBW8ziWW5_"
      },
      "execution_count": null,
      "outputs": []
    },
    {
      "cell_type": "code",
      "source": [
        "print(\"t1 files: \", len(tagged_1_csv_files))\n",
        "print(\"t2 files: \", len(tagged_2_csv_files))\n",
        "print(\"t3 files: \", len(tagged_3_csv_files))"
      ],
      "metadata": {
        "colab": {
          "base_uri": "https://localhost:8080/"
        },
        "id": "CvHed1wTkghA",
        "outputId": "99867452-c1ee-490f-bfe8-8f40a88af112"
      },
      "execution_count": null,
      "outputs": [
        {
          "output_type": "stream",
          "name": "stdout",
          "text": [
            "t1 files:  62\n",
            "t2 files:  60\n",
            "t3 files:  229\n"
          ]
        }
      ]
    },
    {
      "cell_type": "code",
      "source": [
        "document_info_map = {}"
      ],
      "metadata": {
        "id": "Vl0wwNiyWp3Z"
      },
      "execution_count": null,
      "outputs": []
    },
    {
      "cell_type": "code",
      "source": [
        "def extract_and_sort_tags(tag_str):\n",
        "    if not isinstance(tag_str, str) or tag_str == '':\n",
        "        return []\n",
        "    # Convert text to Python object\n",
        "    obj = ast.literal_eval(tag_str)\n",
        "\n",
        "    # Sort the list of dictionaries by values in descending order\n",
        "    sorted_tags = sorted(obj, key=lambda x: list(x.values())[0], reverse=True)\n",
        "\n",
        "    # Extract keys from the sorted list\n",
        "    sorted_keys = [list(tag.keys())[0] for tag in sorted_tags]\n",
        "\n",
        "    return sorted_keys"
      ],
      "metadata": {
        "id": "encG7KnWZA4A"
      },
      "execution_count": null,
      "outputs": []
    },
    {
      "cell_type": "code",
      "source": [
        "def extract_related_images(related_images_str, row=False):\n",
        "    if not isinstance(related_images_str, str) or related_images_str == '':\n",
        "        return []\n",
        "    obj = ast.literal_eval(related_images_str)\n",
        "\n",
        "    related_image_tags = []\n",
        "\n",
        "    for related_image in obj:\n",
        "        if row:\n",
        "            related_image_tags.append(related_image)\n",
        "        else:\n",
        "            related_image_tags.append(related_image['Text'])\n",
        "\n",
        "    return related_image_tags"
      ],
      "metadata": {
        "id": "A6srw7X3ZQYY"
      },
      "execution_count": null,
      "outputs": []
    },
    {
      "cell_type": "code",
      "source": [
        "for tagged_file in tagged_1_csv_files:\n",
        "    df = pd.read_csv(tagged_file)\n",
        "    for index, row in df.iterrows():\n",
        "        unique_id = row['Unique_ID']\n",
        "        url = row['URL']\n",
        "        title = row['Title']\n",
        "        related_images = row['Related_Images']\n",
        "        image_tags = row['image_tags']\n",
        "\n",
        "        sorted_image_tags = extract_and_sort_tags(image_tags)\n",
        "        related_image_tags = extract_related_images(related_images)\n",
        "\n",
        "        document_info_map[unique_id] = {\n",
        "            'url': url,\n",
        "            'title': title,\n",
        "            'related_image_tags': related_image_tags,\n",
        "            'annotated_image_tags': sorted_image_tags\n",
        "        }"
      ],
      "metadata": {
        "id": "sNGsWg_8Wl8E"
      },
      "execution_count": null,
      "outputs": []
    },
    {
      "cell_type": "code",
      "source": [
        "document_info_map['90d31fab-feaf-4056-b23a-5efb3df637ad']"
      ],
      "metadata": {
        "id": "k7jbawSqX-bl"
      },
      "execution_count": null,
      "outputs": []
    },
    {
      "cell_type": "code",
      "source": [
        "for tagged_file in tagged_2_csv_files:\n",
        "    df = pd.read_csv(tagged_file)\n",
        "    for index, row in df.iterrows():\n",
        "        unique_id = row['Unique_ID']\n",
        "        url = row['URL']\n",
        "        title = row['Title']\n",
        "        related_images = row['Related_Images']\n",
        "        image_tags = row['image_tags']\n",
        "\n",
        "        sorted_image_tags = extract_and_sort_tags(image_tags)\n",
        "        related_image_tags = extract_related_images(related_images, True)\n",
        "\n",
        "        document_info_map[unique_id] = {\n",
        "            'url': url,\n",
        "            'title': title,\n",
        "            'related_image_tags': related_image_tags,\n",
        "            'annotated_image_tags': sorted_image_tags\n",
        "        }"
      ],
      "metadata": {
        "id": "eurf29HtZ5zZ"
      },
      "execution_count": null,
      "outputs": []
    },
    {
      "cell_type": "code",
      "source": [
        "document_info_map['22818db3-30f9-4e86-904d-b6c5644a8824']"
      ],
      "metadata": {
        "id": "MCaK6gxJbkdj"
      },
      "execution_count": null,
      "outputs": []
    },
    {
      "cell_type": "code",
      "source": [
        "for tagged_file in tagged_3_csv_files:\n",
        "    df = pd.read_csv(tagged_file)\n",
        "    for index, row in df.iterrows():\n",
        "        unique_id = row['Unique_ID']\n",
        "        url = row['URL']\n",
        "        title = row['Title']\n",
        "        related_images = row['Related_Images']\n",
        "        image_tags = row['image_tags']\n",
        "\n",
        "        sorted_image_tags = extract_and_sort_tags(image_tags)\n",
        "        related_image_tags = extract_related_images(related_images, True)\n",
        "\n",
        "        document_info_map[unique_id] = {\n",
        "            'url': url,\n",
        "            'title': title,\n",
        "            'related_image_tags': related_image_tags,\n",
        "            'annotated_image_tags': sorted_image_tags\n",
        "        }"
      ],
      "metadata": {
        "id": "nZsMOmRykbCJ"
      },
      "execution_count": null,
      "outputs": []
    },
    {
      "cell_type": "code",
      "source": [
        "save_json_file(document_info_map,\"/content/drive/MyDrive/MOS_2/Index/document_info_map_v3.json\")"
      ],
      "metadata": {
        "id": "fXbXa3OHbuR1",
        "colab": {
          "base_uri": "https://localhost:8080/",
          "height": 35
        },
        "outputId": "06cb93a2-0aa4-44dc-a99c-ee0d68d7bb7c"
      },
      "execution_count": null,
      "outputs": [
        {
          "output_type": "execute_result",
          "data": {
            "text/plain": [
              "'Done.'"
            ],
            "application/vnd.google.colaboratory.intrinsic+json": {
              "type": "string"
            }
          },
          "metadata": {},
          "execution_count": 26
        }
      ]
    },
    {
      "cell_type": "code",
      "source": [
        "import math\n",
        "query = input(\"Enter query:\\t\")\n",
        "query_terms = tokenize_text(query)\n",
        "idf = {term: math.log(total_docs / (document_frequency.get(term, 0) + 1)) for term in query_terms}\n",
        "print(idf)"
      ],
      "metadata": {
        "colab": {
          "base_uri": "https://localhost:8080/"
        },
        "id": "NFWaZv4aUnH6",
        "outputId": "d23fdda7-5f10-4465-d6be-fad697c103b6"
      },
      "execution_count": null,
      "outputs": [
        {
          "output_type": "stream",
          "name": "stdout",
          "text": [
            "Enter query:\thorror\n",
            "{'horror': 8.678312391750055}\n"
          ]
        }
      ]
    },
    {
      "cell_type": "code",
      "source": [
        "document_scores = {}\n",
        "for term in query_terms:\n",
        "    if term in final_inverted_index:\n",
        "        for doc_id, tf in final_inverted_index[term]['tf'].items():\n",
        "            if doc_id not in document_scores:\n",
        "                document_scores[doc_id] = 0\n",
        "            document_scores[doc_id] += tf * idf[term]"
      ],
      "metadata": {
        "id": "tknwEoCsU1e5"
      },
      "execution_count": null,
      "outputs": []
    },
    {
      "cell_type": "code",
      "source": [
        "# Rank documents based on combined TF-IDF scores\n",
        "ranked_documents = sorted(document_scores.items(), key=lambda x: x[1], reverse=True)\n",
        "\n",
        "# Print ranked documents\n",
        "for doc_id, score in ranked_documents[:20]:\n",
        "    print(f\"Score: {score:.3f} - Document ID: {doc_id}\")"
      ],
      "metadata": {
        "colab": {
          "base_uri": "https://localhost:8080/"
        },
        "id": "GlKuBQMAU6Kx",
        "outputId": "8aefe014-493a-4ab5-d378-cca869c9b367"
      },
      "execution_count": null,
      "outputs": [
        {
          "output_type": "stream",
          "name": "stdout",
          "text": [
            "Score: 8.678 - Document ID: 4d7791a7-b387-44bf-ac3d-1ce82f812312\n",
            "Score: 8.678 - Document ID: 0488c991-6541-4a1a-97aa-6d6cd5a0ff49\n",
            "Score: 8.678 - Document ID: 71b30357-f8f1-42dc-8bbd-bc8388a7bce8\n",
            "Score: 8.678 - Document ID: f4ec3ab4-0302-43fb-90ac-7e635eb0f05a\n",
            "Score: 8.678 - Document ID: fc410569-403f-4884-9a02-29dd80d5710d\n",
            "Score: 8.678 - Document ID: 9e4d68bf-db54-472e-b6a5-67785807bc97\n",
            "Score: 8.678 - Document ID: cb757ed0-5073-4202-8eb0-6327cfbe984f\n",
            "Score: 8.678 - Document ID: 1410df45-e394-4fb3-8c16-5dffaee76d0a\n",
            "Score: 8.678 - Document ID: 3263e091-ee31-4c33-8ff5-85bc28001980\n",
            "Score: 8.678 - Document ID: bc126f52-b358-4cce-a4dd-8372919fc53b\n",
            "Score: 8.678 - Document ID: d34aaccf-e6a3-4190-a8a4-7a88a6bc3003\n",
            "Score: 8.678 - Document ID: 691ac486-21a7-4208-8b41-01758e54fe36\n",
            "Score: 8.678 - Document ID: 9bf8754a-9990-479e-a4fa-5e01f054cd3f\n",
            "Score: 8.678 - Document ID: fda3889d-68ee-4a94-9c81-e1272a2b2e7e\n",
            "Score: 8.678 - Document ID: 7dcb39fd-293a-4849-9a65-de93a334307f\n",
            "Score: 8.678 - Document ID: 793ad0cb-3b42-4a59-8cdf-50f12fc0c822\n",
            "Score: 8.678 - Document ID: 4d1401ce-f1bd-4575-bc82-5cc5640ad6fb\n",
            "Score: 8.678 - Document ID: a5ac56c5-32b1-4b23-90d9-a4d71332cabd\n",
            "Score: 8.678 - Document ID: 4f28956f-3a1d-4a1a-ab09-b852022228cb\n",
            "Score: 8.678 - Document ID: b1798cbf-9fbe-425a-a3c4-d8f525c67aa9\n"
          ]
        }
      ]
    },
    {
      "cell_type": "code",
      "source": [
        "document_info_map['4d7791a7-b387-44bf-ac3d-1ce82f812312']"
      ],
      "metadata": {
        "colab": {
          "base_uri": "https://localhost:8080/"
        },
        "id": "xbTD-2Pgddjv",
        "outputId": "2a87b438-960b-4480-b3c4-030f618fde25"
      },
      "execution_count": null,
      "outputs": [
        {
          "output_type": "execute_result",
          "data": {
            "text/plain": [
              "{'url': 'https://images.unsplash.com/photo-1620747899017-b2229e9d9c9f?q=80&w=1000&auto=format&fit=crop&ixlib=rb-4.0.3&ixid=M3wxMjA3fDB8MHxzZWFyY2h8MTZ8fHF1ZWVufGVufDB8fDB8fHwy',\n",
              " 'title': 'woman in white long sleeve dress standing near brown leaf tree during daytime',\n",
              " 'related_image_tags': ['beautiful girls',\n",
              "  'Girls photos & images',\n",
              "  'mask',\n",
              "  'gothic',\n",
              "  'queen',\n",
              "  'Hd princess wallpapers',\n",
              "  'Crown images',\n",
              "  'horror',\n",
              "  'aestethic',\n",
              "  'People images & pictures',\n",
              "  'clothing',\n",
              "  'apparel',\n",
              "  'People images & pictures',\n",
              "  'human',\n",
              "  'Hd grey wallpapers',\n",
              "  'costume',\n",
              "  'fashion',\n",
              "  'robe',\n",
              "  'female',\n",
              "  'Free stock photos'],\n",
              " 'annotated_image_tags': ['cloak',\n",
              "  'rapeseed',\n",
              "  'gown',\n",
              "  'sweatshirt',\n",
              "  'abaya',\n",
              "  'swing']}"
            ]
          },
          "metadata": {},
          "execution_count": 30
        }
      ]
    }
  ]
}
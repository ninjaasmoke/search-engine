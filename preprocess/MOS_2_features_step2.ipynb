{
  "nbformat": 4,
  "nbformat_minor": 0,
  "metadata": {
    "colab": {
      "provenance": []
    },
    "kernelspec": {
      "name": "python3",
      "display_name": "Python 3"
    },
    "language_info": {
      "name": "python"
    }
  },
  "cells": [
    {
      "cell_type": "code",
      "source": [
        "import numpy as np\n",
        "import urllib.request\n",
        "from PIL import Image\n",
        "from tensorflow.keras.applications.inception_v3 import InceptionV3, preprocess_input, decode_predictions\n",
        "from google.colab import drive\n",
        "import os\n",
        "import pandas as pd\n",
        "import uuid\n",
        "from concurrent.futures import ThreadPoolExecutor"
      ],
      "metadata": {
        "id": "dGfLoPSW8uE-"
      },
      "execution_count": null,
      "outputs": []
    },
    {
      "cell_type": "code",
      "source": [
        "drive.mount('/content/drive')"
      ],
      "metadata": {
        "colab": {
          "base_uri": "https://localhost:8080/"
        },
        "id": "NWvtvFkQhNqu",
        "outputId": "12232f6c-7339-4990-82b0-1fe3546c62bc"
      },
      "execution_count": null,
      "outputs": [
        {
          "output_type": "stream",
          "name": "stdout",
          "text": [
            "Mounted at /content/drive\n"
          ]
        }
      ]
    },
    {
      "cell_type": "code",
      "source": [
        "# Load pre-trained InceptionV3 model\n",
        "model = InceptionV3(weights='imagenet')\n",
        "\n",
        "# Function to generate tags for an image given its URL\n",
        "def generate_tags_from_image_url(image_url):\n",
        "    try:\n",
        "        # Load and preprocess the image from URL\n",
        "        with urllib.request.urlopen(image_url) as url:\n",
        "            img = Image.open(url)\n",
        "            img = img.resize((299, 299))  # Resize the image to match the input size of InceptionV3\n",
        "            img_array = np.expand_dims(np.array(img), axis=0)\n",
        "            img_array = preprocess_input(img_array)  # Preprocess the image for InceptionV3\n",
        "\n",
        "        # Make predictions on the image\n",
        "        predictions = model.predict(img_array)\n",
        "\n",
        "        # Decode predictions to get class labels\n",
        "        decoded_predictions = decode_predictions(predictions, top=6)[0]\n",
        "\n",
        "        # Extract tags from decoded predictions\n",
        "        tags = [{label[1].replace('_', ' '): label[2]} for label in decoded_predictions]\n",
        "\n",
        "        return tags\n",
        "    except Exception as e:\n",
        "        print(f\"Error generating tags for image: {e}\")\n",
        "        return None"
      ],
      "metadata": {
        "colab": {
          "base_uri": "https://localhost:8080/"
        },
        "id": "lDVFSaNJCI9Y",
        "outputId": "dd85985f-87a8-4f64-bc17-814c1717c44f"
      },
      "execution_count": null,
      "outputs": [
        {
          "output_type": "stream",
          "name": "stdout",
          "text": [
            "Downloading data from https://storage.googleapis.com/tensorflow/keras-applications/inception_v3/inception_v3_weights_tf_dim_ordering_tf_kernels.h5\n",
            "96112376/96112376 [==============================] - 0s 0us/step\n"
          ]
        }
      ]
    },
    {
      "cell_type": "code",
      "source": [
        "def generate_uuid():\n",
        "    return str(uuid.uuid4())"
      ],
      "metadata": {
        "id": "xSj4BwpkikQE"
      },
      "execution_count": null,
      "outputs": []
    },
    {
      "cell_type": "code",
      "source": [
        "# Example usage\n",
        "image_url = \"https://images.unsplash.com/photo-1587135941948-670b381f08ce?q=80&w=2070\"\n",
        "generated_tags = generate_tags_from_image_url(image_url)\n",
        "\n",
        "if generated_tags:\n",
        "    print(\"Generated tags for the image:\", generated_tags)\n",
        "else:\n",
        "    print(\"Failed to generate tags for the image.\")"
      ],
      "metadata": {
        "colab": {
          "base_uri": "https://localhost:8080/"
        },
        "id": "5PpCGN6I_Nsn",
        "outputId": "b26b3924-5dad-4c8c-a731-780b2936d9d9"
      },
      "execution_count": null,
      "outputs": [
        {
          "output_type": "stream",
          "name": "stdout",
          "text": [
            "\u001b[1m1/1\u001b[0m \u001b[32m━━━━━━━━━━━━━━━━━━━━\u001b[0m\u001b[37m\u001b[0m \u001b[1m3s\u001b[0m 3s/step\n",
            "[('n03788195', 'mosque', 0.9526032), ('n03877845', 'palace', 0.0024458563), ('n03220513', 'dome', 0.0021314113), ('n03447447', 'gondola', 0.0016001905), ('n04346328', 'stupa', 0.000601429), ('n03998194', 'prayer_rug', 0.00043926458)]\n",
            "Generated tags for the image: [{'mosque': 0.9526032}, {'palace': 0.0024458563}, {'dome': 0.0021314113}, {'gondola': 0.0016001905}, {'stupa': 0.000601429}, {'prayer rug': 0.00043926458}]\n"
          ]
        }
      ]
    },
    {
      "cell_type": "code",
      "source": [
        "directory = \"/content/drive/MyDrive/MOS_2/Data_v3\"\n",
        "tagged_directory = \"/content/drive/MyDrive/MOS_2/Tagged_v3\"\n",
        "files = os.listdir(directory)"
      ],
      "metadata": {
        "id": "zgObI9IADDSi"
      },
      "execution_count": null,
      "outputs": []
    },
    {
      "cell_type": "code",
      "source": [
        "csv_files = [directory + \"/\" + file for file in files if file.endswith('.csv')]"
      ],
      "metadata": {
        "id": "gN1d_TpEhvT9"
      },
      "execution_count": null,
      "outputs": []
    },
    {
      "cell_type": "code",
      "source": [
        "len(csv_files)"
      ],
      "metadata": {
        "colab": {
          "base_uri": "https://localhost:8080/"
        },
        "id": "OVAFFl0xl-XW",
        "outputId": "fdd1d0fc-a4b8-40c1-dfb6-76c2e3d95aea"
      },
      "execution_count": null,
      "outputs": [
        {
          "output_type": "execute_result",
          "data": {
            "text/plain": [
              "229"
            ]
          },
          "metadata": {},
          "execution_count": 11
        }
      ]
    },
    {
      "cell_type": "code",
      "source": [
        "print(csv_files[0])"
      ],
      "metadata": {
        "colab": {
          "base_uri": "https://localhost:8080/"
        },
        "id": "rMwQcGTXnG6k",
        "outputId": "99d22f67-c732-422c-f4ca-febd86d6c056"
      },
      "execution_count": null,
      "outputs": [
        {
          "output_type": "stream",
          "name": "stdout",
          "text": [
            "/content/drive/MyDrive/MOS_2/Data_v3/africans_image_data.csv\n"
          ]
        }
      ]
    },
    {
      "cell_type": "code",
      "source": [
        "def process_csv(file):\n",
        "    file_path = os.path.join(directory, file)\n",
        "    df = pd.read_csv(file_path)\n",
        "    df['image_tags'] = df['URL'].apply(generate_tags_from_image_url)\n",
        "    df['Unique_ID'] = [generate_uuid() for _ in range(len(df))]  # Generate unique IDs\n",
        "    filename = os.path.basename(file)\n",
        "    processed_file_path = f\"{tagged_directory}/{filename}\"\n",
        "    df.to_csv(processed_file_path, index=False)"
      ],
      "metadata": {
        "id": "rP9cWJqmh0GS"
      },
      "execution_count": null,
      "outputs": []
    },
    {
      "cell_type": "code",
      "source": [
        "process_csv(directory + \"/funny cats_image_data.csv\")"
      ],
      "metadata": {
        "id": "JvAIHdOSiyAk"
      },
      "execution_count": null,
      "outputs": []
    },
    {
      "cell_type": "code",
      "source": [
        "with ThreadPoolExecutor() as executor:\n",
        "    executor.map(process_csv, csv_files)"
      ],
      "metadata": {
        "id": "lE89gSHRjMpK"
      },
      "execution_count": null,
      "outputs": []
    },
    {
      "cell_type": "code",
      "source": [],
      "metadata": {
        "id": "TQQt8YhLtWEA"
      },
      "execution_count": null,
      "outputs": []
    }
  ]
}